{
  "nbformat": 4,
  "nbformat_minor": 0,
  "metadata": {
    "colab": {
      "provenance": []
    },
    "kernelspec": {
      "name": "python3",
      "display_name": "Python 3"
    },
    "language_info": {
      "name": "python"
    }
  },
  "cells": [
    {
      "cell_type": "code",
      "source": [
        "%%capture\n",
        "!wget https://dlcdn.apache.org/spark/spark-3.4.1/spark-3.4.1-bin-hadoop3.tgz\n",
        "!tar xvzf spark-3.4.1-bin-hadoop3.tgz\n",
        "!pip install findspark"
      ],
      "metadata": {
        "id": "186bet0fgTuq"
      },
      "execution_count": null,
      "outputs": []
    },
    {
      "cell_type": "code",
      "source": [
        "#local storage connection with Hadoop, os environment set\n",
        "import os\n",
        "os.environ[\"Spark_Home\"] = \"/content/spark-3.4.1-bin-hadoop3\"\n",
        "\n",
        "import findspark\n",
        "findspark.init\n",
        "!pip install pyspark"
      ],
      "metadata": {
        "id": "fCooSa0elCqh"
      },
      "execution_count": null,
      "outputs": []
    },
    {
      "cell_type": "code",
      "source": [
        "from pyspark.sql import SparkSession\n",
        "from pyspark.sql.functions import col\n",
        "spark = SparkSession.builder.appName(\"pySpark 3.4.1 on google colab\").getOrCreate()"
      ],
      "metadata": {
        "id": "JFV4KPQdnyAR"
      },
      "execution_count": null,
      "outputs": []
    },
    {
      "cell_type": "code",
      "source": [
        "df = spark.read.csv(header=True, inferSchema=True, path=\"/content/drive/MyDrive/9th semester/Data set/Rokomari - outlate added.csv\")\n",
        "df.printSchema\n",
        "df.show()"
      ],
      "metadata": {
        "colab": {
          "base_uri": "https://localhost:8080/"
        },
        "id": "3E9v-TQZpcvZ",
        "outputId": "b91877e9-d7a4-450e-ab42-fab7ac685f0c"
      },
      "execution_count": null,
      "outputs": [
        {
          "output_type": "stream",
          "name": "stdout",
          "text": [
            "+--------------------+--------------------+--------------------+--------------------+--------------+-------------+--------+------------+------+--------------------+------------+\n",
            "|               Title|        sub_category|            category|             Authors|Original Price|Selling Price|Discount|Rating Count|Rating|        Publisher_en|outlete_size|\n",
            "+--------------------+--------------------+--------------------+--------------------+--------------+-------------+--------+------------+------+--------------------+------------+\n",
            "|Evil spirits (har...|supernatural and ...|novel and literature|       Mushtaq Ahmed|           200|          156|      44|        10.0|   4.2|Declaration of un...|       small|\n",
            "|Smart English Sma...|english grammar a...|         educational|         Farid Ahmed|           250|          188|      62|       137.0|  3.74|  Farid Publications|      medium|\n",
            "|What will people ...|self development ...|          daily life|         Ayman Sadiq|           255|          191|      64|      1848.0|  4.08|               Ideal|      medium|\n",
            "|Rahele Bellayat (...|spirituality and ...|           religious|Dr.Khondaker Abdu...|           460|          322|     138|       584.0|  4.67|As-Sunnah Publica...|      medium|\n",
            "|Not in good (hard...|student life deve...|          daily life|         Ayman Sadiq|           300|          225|      75|      1110.0|  4.28|    Meena Book House|      medium|\n",
            "|Mathematical math...|         mathematics|          mathmatics|        Chamok Hasan|           267|          200|      67|       303.0|  4.61| Publish publication|      medium|\n",
            "|Recharge your dow...|student life deve...|          daily life|      Jhankar Mahmud|           260|          195|      65|       394.0|   4.6|Legendary publica...|      medium|\n",
            "|Programming (Hard...|computer programming|            computer|      Jhankar Mahmud|           267|          200|      67|       438.0|  4.54|Darus Salam Bangl...|      medium|\n",
            "|Digit brother (ha...|         mathematics|          mathmatics|        Chamok Hasan|           300|          225|      75|       290.0|   4.4|     Alif Book House|      medium|\n",
            "|The Prayer of the...|      salat / prayer|           religious|Allama Muhammad N...|           220|          132|      88|       238.0|  4.21|Lighthouse public...|      medium|\n",
            "|Corporate Communi...|  career development|          daily life|Rokhsana Akhter R...|           240|          180|      60|        83.0|  4.11|          Blackboard|      medium|\n",
            "|Programming boss ...|computer programming|            computer|      Jhankar Mahmud|           267|          200|      67|       210.0|  4.55|   Darul Huda Kutous|      medium|\n",
            "|Presentation and ...|presentation, lec...|         educational|   Md. Zakir Hossain|           100|           70|      30|        96.0|  3.94|            Standard|       small|\n",
            "|In the study hand...|education and res...|         educational|         Ragib Hasan|           267|          200|      67|       149.0|  4.49|   Arts Publications|      medium|\n",
            "|  Jukti Fade Phoring|       communication|         educational|        Chamok Hasan|           200|          150|      50|       272.0|  4.29|Al-Hikmah Publica...|      medium|\n",
            "|Munazat and Praye...|      salat / prayer|           religious|Dr.Khondaker Abdu...|            50|           35|      15|        86.0|  4.73|            Fountain|       small|\n",
            "|Paracetamol (Hard...|student life deve...|          daily life|      Jhankar Mahmud|           260|          195|      65|       356.0|   4.6|               Roots|      medium|\n",
            "|    Last (hardcover)|  contemporary novel|novel and literature|         Junaid Ivan|           350|          250|     100|       436.0|  4.26| Career Publications|      medium|\n",
            "|Fourteenth of pro...|computer programming|            computer|      Jhankar Mahmud|           360|          270|      90|       154.0|  4.44|Prolvation public...|      medium|\n",
            "|Sahih Mashmanun O...|prayer, darood an...|           religious|Dr.Khondaker Abdu...|            60|           42|      18|       174.0|  4.74|      Muslim Village|       small|\n",
            "+--------------------+--------------------+--------------------+--------------------+--------------+-------------+--------+------------+------+--------------------+------------+\n",
            "only showing top 20 rows\n",
            "\n"
          ]
        }
      ]
    },
    {
      "cell_type": "code",
      "source": [
        "df.printSchema()"
      ],
      "metadata": {
        "colab": {
          "base_uri": "https://localhost:8080/"
        },
        "id": "9uBGYCnDby1M",
        "outputId": "0e201c17-c3c2-4159-d2cb-f1f1ef90be08"
      },
      "execution_count": null,
      "outputs": [
        {
          "output_type": "stream",
          "name": "stdout",
          "text": [
            "root\n",
            " |-- Title: string (nullable = true)\n",
            " |-- sub_category: string (nullable = true)\n",
            " |-- category: string (nullable = true)\n",
            " |-- Authors: string (nullable = true)\n",
            " |-- Original Price: string (nullable = true)\n",
            " |-- Selling Price: string (nullable = true)\n",
            " |-- Discount: integer (nullable = true)\n",
            " |-- Rating Count: double (nullable = true)\n",
            " |-- Rating: double (nullable = true)\n",
            " |-- Publisher_en: string (nullable = true)\n",
            " |-- outlete_size: string (nullable = true)\n",
            "\n"
          ]
        }
      ]
    },
    {
      "cell_type": "code",
      "source": [
        "df.filter(df.Authors.isNull()).show()"
      ],
      "metadata": {
        "colab": {
          "base_uri": "https://localhost:8080/"
        },
        "id": "Qg3uhCBzaHvN",
        "outputId": "d0318d7b-895d-4d8d-879c-7e3f707ed075"
      },
      "execution_count": null,
      "outputs": [
        {
          "output_type": "stream",
          "name": "stdout",
          "text": [
            "+-----+------------+--------+-------+--------------+-------------+--------+------------+------+------------+------------+\n",
            "|Title|sub_category|category|Authors|Original Price|Selling Price|Discount|Rating Count|Rating|Publisher_en|outlete_size|\n",
            "+-----+------------+--------+-------+--------------+-------------+--------+------------+------+------------+------------+\n",
            "+-----+------------+--------+-------+--------------+-------------+--------+------------+------+------------+------------+\n",
            "\n"
          ]
        }
      ]
    },
    {
      "cell_type": "code",
      "source": [
        "for col_name in df.columns:\n",
        "    null_count = df.filter(col(col_name).isNull()).count()\n",
        "\n",
        "    print(f\"Column '{col_name}' has {null_count} null values.\")"
      ],
      "metadata": {
        "colab": {
          "base_uri": "https://localhost:8080/"
        },
        "id": "XXkSUpVDckNU",
        "outputId": "368e08d9-0cff-4bc1-e0c2-6423d5457b6e"
      },
      "execution_count": null,
      "outputs": [
        {
          "output_type": "stream",
          "name": "stdout",
          "text": [
            "Column 'Title' has 0 null values.\n",
            "Column 'sub_category' has 0 null values.\n",
            "Column 'category' has 0 null values.\n",
            "Column 'Authors' has 0 null values.\n",
            "Column 'Original Price' has 0 null values.\n",
            "Column 'Selling Price' has 0 null values.\n",
            "Column 'Discount' has 0 null values.\n",
            "Column 'Rating Count' has 0 null values.\n",
            "Column 'Rating' has 0 null values.\n",
            "Column 'Publisher_en' has 0 null values.\n",
            "Column 'outlete_size' has 0 null values.\n"
          ]
        }
      ]
    },
    {
      "cell_type": "code",
      "source": [
        "df=df.withColumn(\"Original Price\", df[\"Original Price\"].cast(\"Integer\"))\n",
        "df=df.withColumn(\"Selling Price\", df[\"Selling Price\"].cast(\"Integer\"))"
      ],
      "metadata": {
        "id": "elRA0rJAhjGK"
      },
      "execution_count": null,
      "outputs": []
    },
    {
      "cell_type": "code",
      "source": [
        "df.printSchema()"
      ],
      "metadata": {
        "colab": {
          "base_uri": "https://localhost:8080/"
        },
        "id": "0a4ZUq5riWiC",
        "outputId": "8db722f1-4b48-4a8b-a19d-006136d9dfc7"
      },
      "execution_count": null,
      "outputs": [
        {
          "output_type": "stream",
          "name": "stdout",
          "text": [
            "root\n",
            " |-- Title: string (nullable = true)\n",
            " |-- sub_category: string (nullable = true)\n",
            " |-- category: string (nullable = true)\n",
            " |-- Authors: string (nullable = true)\n",
            " |-- Original Price: integer (nullable = true)\n",
            " |-- Selling Price: integer (nullable = true)\n",
            " |-- Discount: integer (nullable = true)\n",
            " |-- Rating Count: double (nullable = true)\n",
            " |-- Rating: double (nullable = true)\n",
            " |-- Publisher_en: string (nullable = true)\n",
            " |-- outlete_size: string (nullable = true)\n",
            "\n"
          ]
        }
      ]
    },
    {
      "cell_type": "code",
      "source": [
        "from pyspark.ml.feature import (StringIndexer, OneHotEncoder, VectorAssembler)"
      ],
      "metadata": {
        "id": "hiayMQT5k3WF"
      },
      "execution_count": null,
      "outputs": []
    },
    {
      "cell_type": "code",
      "source": [
        "category_col = ['Title','sub_category', 'category', 'Authors', 'Publisher_en', 'outlete_size']"
      ],
      "metadata": {
        "id": "CAezgV_0nKfo"
      },
      "execution_count": null,
      "outputs": []
    },
    {
      "cell_type": "code",
      "source": [
        "from pyspark.sql.functions import col, count\n",
        "\n",
        "for i in category_col:\n",
        "  df.groupBy(i).agg(count(i)).show()"
      ],
      "metadata": {
        "id": "dY3LQqSFuOXt"
      },
      "execution_count": null,
      "outputs": []
    },
    {
      "cell_type": "code",
      "source": [
        "from pyspark.ml.feature import (StringIndexer, OneHotEncoder, VectorAssembler)\n",
        "indexers=[]\n",
        "for i in category_col:\n",
        "  indx = StringIndexer(inputCol=col_name, outputCol=f\"{i}_num\")\n",
        "  indexers.append(indx)\n",
        "\n",
        "for indexer in indexers:\n",
        "  df=indexer.fit(df).transform(df)\n",
        "df.show(3, truncate=False)\n"
      ],
      "metadata": {
        "colab": {
          "base_uri": "https://localhost:8080/"
        },
        "id": "Ea_DFDXJA81W",
        "outputId": "44a2b1d5-68bc-4abe-f2dc-834254690954"
      },
      "execution_count": null,
      "outputs": [
        {
          "output_type": "stream",
          "name": "stdout",
          "text": [
            "+----------------------------------------------------+--------------------------------------+--------------------+-------------+--------------+-------------+--------+------------+------+--------------------------+------------+---------+----------------+------------+-----------+----------------+----------------+\n",
            "|Title                                               |sub_category                          |category            |Authors      |Original Price|Selling Price|Discount|Rating Count|Rating|Publisher_en              |outlete_size|Title_num|sub_category_num|category_num|Authors_num|Publisher_en_num|outlete_size_num|\n",
            "+----------------------------------------------------+--------------------------------------+--------------------+-------------+--------------+-------------+--------+------------+------+--------------------------+------------+---------+----------------+------------+-----------+----------------+----------------+\n",
            "|Evil spirits (hardcover)                            |supernatural and ghost                |novel and literature|Mushtaq Ahmed|200           |156          |44      |10.0        |4.2   |Declaration of unblemished|small       |1.0      |1.0             |1.0         |1.0        |1.0             |1.0             |\n",
            "|Smart English Smart Way to Learn English - 2nd chunk|english grammar and language education|educational         |Farid Ahmed  |250           |188          |62      |137.0       |3.74  |Farid Publications        |medium      |0.0      |0.0             |0.0         |0.0        |0.0             |0.0             |\n",
            "|What will people say?(Hardcover)                    |self development and motivation       |daily life          |Ayman Sadiq  |255           |191          |64      |1848.0      |4.08  |Ideal                     |medium      |0.0      |0.0             |0.0         |0.0        |0.0             |0.0             |\n",
            "+----------------------------------------------------+--------------------------------------+--------------------+-------------+--------------+-------------+--------+------------+------+--------------------------+------------+---------+----------------+------------+-----------+----------------+----------------+\n",
            "only showing top 3 rows\n",
            "\n"
          ]
        }
      ]
    },
    {
      "cell_type": "code",
      "source": [
        "df2=df2.drop(*category_col)\n",
        "df2=df2.drop('outlete_size_num')\n",
        "df2.show(2)"
      ],
      "metadata": {
        "colab": {
          "base_uri": "https://localhost:8080/"
        },
        "id": "25eyY_L_VFaC",
        "outputId": "369f829a-3635-4163-c516-93f695160a88"
      },
      "execution_count": null,
      "outputs": [
        {
          "output_type": "stream",
          "name": "stdout",
          "text": [
            "+--------------+-------------+--------+------------+------+---------+----------------+------------+-----------+----------------+\n",
            "|Original Price|Selling Price|Discount|Rating Count|Rating|Title_num|sub_category_num|category_num|Authors_num|Publisher_en_num|\n",
            "+--------------+-------------+--------+------------+------+---------+----------------+------------+-----------+----------------+\n",
            "|           200|          156|      44|        10.0|   4.2|      1.0|             1.0|         1.0|        1.0|             1.0|\n",
            "|           250|          188|      62|       137.0|  3.74|      0.0|             0.0|         0.0|        0.0|             0.0|\n",
            "+--------------+-------------+--------+------------+------+---------+----------------+------------+-----------+----------------+\n",
            "only showing top 2 rows\n",
            "\n"
          ]
        }
      ]
    },
    {
      "cell_type": "code",
      "source": [
        "asm = VectorAssembler(\n",
        " inputCols=['Original Price', 'Selling Price', 'Discount', 'Rating Count', 'Rating' ,'Title_num','sub_category_num', 'category_num', 'Authors_num', 'Publisher_en_num'],\n",
        " outputCol=\"Features\",handleInvalid=\"skip\")\n",
        "df = asm.transform(df)\n",
        "df.show(10, truncate=False)"
      ],
      "metadata": {
        "colab": {
          "base_uri": "https://localhost:8080/"
        },
        "id": "QLKiLaD1Xbjz",
        "outputId": "812b8d6c-c50f-466c-9f28-c19144763d1c"
      },
      "execution_count": null,
      "outputs": [
        {
          "output_type": "stream",
          "name": "stdout",
          "text": [
            "+---------------------------------------------------------------------------------+--------------------------------------+--------------------+--------------------------------------+--------------+-------------+--------+------------+------+--------------------------+------------+---------+----------------+------------+-----------+----------------+----------------+-----------------------------------------------+\n",
            "|Title                                                                            |sub_category                          |category            |Authors                               |Original Price|Selling Price|Discount|Rating Count|Rating|Publisher_en              |outlete_size|Title_num|sub_category_num|category_num|Authors_num|Publisher_en_num|outlete_size_num|Features                                       |\n",
            "+---------------------------------------------------------------------------------+--------------------------------------+--------------------+--------------------------------------+--------------+-------------+--------+------------+------+--------------------------+------------+---------+----------------+------------+-----------+----------------+----------------+-----------------------------------------------+\n",
            "|Evil spirits (hardcover)                                                         |supernatural and ghost                |novel and literature|Mushtaq Ahmed                         |200           |156          |44      |10.0        |4.2   |Declaration of unblemished|small       |1.0      |1.0             |1.0         |1.0        |1.0             |1.0             |[200.0,156.0,44.0,10.0,4.2,1.0,1.0,1.0,1.0,1.0]|\n",
            "|Smart English Smart Way to Learn English - 2nd chunk                             |english grammar and language education|educational         |Farid Ahmed                           |250           |188          |62      |137.0       |3.74  |Farid Publications        |medium      |0.0      |0.0             |0.0         |0.0        |0.0             |0.0             |(10,[0,1,2,3,4],[250.0,188.0,62.0,137.0,3.74]) |\n",
            "|What will people say?(Hardcover)                                                 |self development and motivation       |daily life          |Ayman Sadiq                           |255           |191          |64      |1848.0      |4.08  |Ideal                     |medium      |0.0      |0.0             |0.0         |0.0        |0.0             |0.0             |(10,[0,1,2,3,4],[255.0,191.0,64.0,1848.0,4.08])|\n",
            "|Rahele Bellayat (Hardcover)                                                      |spirituality and sufism               |religious           |Dr.Khondaker Abdullah Jahangir        |460           |322          |138     |584.0       |4.67  |As-Sunnah Publications    |medium      |0.0      |0.0             |0.0         |0.0        |0.0             |0.0             |(10,[0,1,2,3,4],[460.0,322.0,138.0,584.0,4.67])|\n",
            "|Not in good (hardcover)                                                          |student life development              |daily life          |Ayman Sadiq                           |300           |225          |75      |1110.0      |4.28  |Meena Book House          |medium      |0.0      |0.0             |0.0         |0.0        |0.0             |0.0             |(10,[0,1,2,3,4],[300.0,225.0,75.0,1110.0,4.28])|\n",
            "|Mathematical mathematics mathematics (hardcover)                                 |mathematics                           |mathmatics          |Chamok Hasan                          |267           |200          |67      |303.0       |4.61  |Publish publication       |medium      |0.0      |0.0             |0.0         |0.0        |0.0             |0.0             |(10,[0,1,2,3,4],[267.0,200.0,67.0,303.0,4.61]) |\n",
            "|Recharge your down battery (hardcover)                                           |student life development              |daily life          |Jhankar Mahmud                        |260           |195          |65      |394.0       |4.6   |Legendary publication     |medium      |0.0      |0.0             |0.0         |0.0        |0.0             |0.0             |(10,[0,1,2,3,4],[260.0,195.0,65.0,394.0,4.6])  |\n",
            "|Programming (Hardcover) for Hababuda                                             |computer programming                  |computer            |Jhankar Mahmud                        |267           |200          |67      |438.0       |4.54  |Darus Salam Bangladesh    |medium      |0.0      |0.0             |0.0         |0.0        |0.0             |0.0             |(10,[0,1,2,3,4],[267.0,200.0,67.0,438.0,4.54]) |\n",
            "|Digit brother (hardcover)                                                        |mathematics                           |mathmatics          |Chamok Hasan                          |300           |225          |75      |290.0       |4.4   |Alif Book House           |medium      |0.0      |0.0             |0.0         |0.0        |0.0             |0.0             |(10,[0,1,2,3,4],[300.0,225.0,75.0,290.0,4.4])  |\n",
            "|The Prayer of the Prophet (peace be upon him) (1st and second volume) (Hardcover)|salat / prayer                        |religious           |Allama Muhammad Nasiruddin Albani (Rh)|220           |132          |88      |238.0       |4.21  |Lighthouse publication    |medium      |0.0      |0.0             |0.0         |0.0        |0.0             |0.0             |(10,[0,1,2,3,4],[220.0,132.0,88.0,238.0,4.21]) |\n",
            "+---------------------------------------------------------------------------------+--------------------------------------+--------------------+--------------------------------------+--------------+-------------+--------+------------+------+--------------------------+------------+---------+----------------+------------+-----------+----------------+----------------+-----------------------------------------------+\n",
            "only showing top 10 rows\n",
            "\n"
          ]
        }
      ]
    },
    {
      "cell_type": "code",
      "source": [
        "from pyspark.ml.feature import MinMaxScaler\n",
        "from pyspark.ml import Pipeline\n",
        "\n",
        "# Create a MinMaxScaler to normalize the features\n",
        "scaler = MinMaxScaler(inputCol=\"Features\", outputCol=\"scaled_features\")\n",
        "scaler_model = scaler.fit(df)\n",
        "\n",
        "normalized_data = scaler_model.transform(df)\n",
        "\n",
        "# Show the normalized data\n",
        "normalized_data.select(\"Features\", \"scaled_features\").show()"
      ],
      "metadata": {
        "colab": {
          "base_uri": "https://localhost:8080/"
        },
        "id": "Ub4OdJyjI0bl",
        "outputId": "89cbb1c9-8207-4ce6-c0c5-347ca78b504a"
      },
      "execution_count": null,
      "outputs": [
        {
          "output_type": "stream",
          "name": "stdout",
          "text": [
            "+--------------------+--------------------+\n",
            "|            Features|     scaled_features|\n",
            "+--------------------+--------------------+\n",
            "|[200.0,156.0,44.0...|[0.20202020202020...|\n",
            "|(10,[0,1,2,3,4],[...|(10,[0,1,2,3,4],[...|\n",
            "|(10,[0,1,2,3,4],[...|(10,[0,1,2,3,4],[...|\n",
            "|(10,[0,1,2,3,4],[...|(10,[0,1,2,3,4],[...|\n",
            "|(10,[0,1,2,3,4],[...|(10,[0,1,2,3,4],[...|\n",
            "|(10,[0,1,2,3,4],[...|(10,[0,1,2,3,4],[...|\n",
            "|(10,[0,1,2,3,4],[...|(10,[0,1,2,3,4],[...|\n",
            "|(10,[0,1,2,3,4],[...|(10,[0,1,2,3,4],[...|\n",
            "|(10,[0,1,2,3,4],[...|(10,[0,1,2,3,4],[...|\n",
            "|(10,[0,1,2,3,4],[...|(10,[0,1,2,3,4],[...|\n",
            "|(10,[0,1,2,3,4],[...|(10,[0,1,2,3,4],[...|\n",
            "|(10,[0,1,2,3,4],[...|(10,[0,1,2,3,4],[...|\n",
            "|[100.0,70.0,30.0,...|[0.10101010101010...|\n",
            "|(10,[0,1,2,3,4],[...|(10,[0,1,2,3,4],[...|\n",
            "|(10,[0,1,2,3,4],[...|(10,[0,1,2,3,4],[...|\n",
            "|[50.0,35.0,15.0,8...|[0.05050505050505...|\n",
            "|(10,[0,1,2,3,4],[...|(10,[0,1,2,3,4],[...|\n",
            "|(10,[0,1,2,3,4],[...|(10,[0,1,2,3,4],[...|\n",
            "|(10,[0,1,2,3,4],[...|(10,[0,1,2,3,4],[...|\n",
            "|[60.0,42.0,18.0,1...|[0.06060606060606...|\n",
            "+--------------------+--------------------+\n",
            "only showing top 20 rows\n",
            "\n"
          ]
        }
      ]
    },
    {
      "cell_type": "code",
      "source": [
        "finalData = normalized_data.select(\"scaled_features\",\"outlete_size_num\")\n",
        "finalData.show()"
      ],
      "metadata": {
        "colab": {
          "base_uri": "https://localhost:8080/"
        },
        "id": "jkv3FiF9UArf",
        "outputId": "c61a80bd-0503-45d3-a771-9df7c686c652"
      },
      "execution_count": null,
      "outputs": [
        {
          "output_type": "stream",
          "name": "stdout",
          "text": [
            "+--------------------+----------------+\n",
            "|     scaled_features|outlete_size_num|\n",
            "+--------------------+----------------+\n",
            "|[0.20202020202020...|             1.0|\n",
            "|(10,[0,1,2,3,4],[...|             0.0|\n",
            "|(10,[0,1,2,3,4],[...|             0.0|\n",
            "|(10,[0,1,2,3,4],[...|             0.0|\n",
            "|(10,[0,1,2,3,4],[...|             0.0|\n",
            "|(10,[0,1,2,3,4],[...|             0.0|\n",
            "|(10,[0,1,2,3,4],[...|             0.0|\n",
            "|(10,[0,1,2,3,4],[...|             0.0|\n",
            "|(10,[0,1,2,3,4],[...|             0.0|\n",
            "|(10,[0,1,2,3,4],[...|             0.0|\n",
            "|(10,[0,1,2,3,4],[...|             0.0|\n",
            "|(10,[0,1,2,3,4],[...|             0.0|\n",
            "|[0.10101010101010...|             1.0|\n",
            "|(10,[0,1,2,3,4],[...|             0.0|\n",
            "|(10,[0,1,2,3,4],[...|             0.0|\n",
            "|[0.05050505050505...|             1.0|\n",
            "|(10,[0,1,2,3,4],[...|             0.0|\n",
            "|(10,[0,1,2,3,4],[...|             0.0|\n",
            "|(10,[0,1,2,3,4],[...|             0.0|\n",
            "|[0.06060606060606...|             1.0|\n",
            "+--------------------+----------------+\n",
            "only showing top 20 rows\n",
            "\n"
          ]
        }
      ]
    },
    {
      "cell_type": "code",
      "source": [
        "df.count()"
      ],
      "metadata": {
        "colab": {
          "base_uri": "https://localhost:8080/"
        },
        "id": "JXzqsdp3NchV",
        "outputId": "16786f92-f55b-4417-bdeb-a7819e104937"
      },
      "execution_count": null,
      "outputs": [
        {
          "output_type": "execute_result",
          "data": {
            "text/plain": [
              "6355"
            ]
          },
          "metadata": {},
          "execution_count": 21
        }
      ]
    },
    {
      "cell_type": "code",
      "source": [
        "from pyspark.sql.functions import countDistinct, avg, stddev\n",
        "column_subset = df.columns\n",
        "for cols in column_subset:\n",
        "    if df.select(cols).dtypes[0][1]==\"Integer\":\n",
        "        mean = df.agg({cols:'mean'}).collect()[0][0]\n",
        "        stddev = df.agg({'Original Price':'stddev'}).collect()[0][0]\n",
        "        upper_limit = mean + (3*stddev)\n",
        "        lower_limit = mean - (3*stddev)\n",
        "        df = df.filter((df[cols]>lower_limit) & (df[cols]<upper_limit))\n",
        "df.show(5)"
      ],
      "metadata": {
        "id": "lxmjKY4eZW6J",
        "colab": {
          "base_uri": "https://localhost:8080/"
        },
        "outputId": "5464f167-6afa-446a-e010-936d07741bd6"
      },
      "execution_count": null,
      "outputs": [
        {
          "output_type": "stream",
          "name": "stdout",
          "text": [
            "+--------------------+--------------------+--------------------+--------------------+--------------+-------------+--------+------------+------+--------------------+------------+---------+----------------+------------+-----------+----------------+----------------+--------------------+\n",
            "|               Title|        sub_category|            category|             Authors|Original Price|Selling Price|Discount|Rating Count|Rating|        Publisher_en|outlete_size|Title_num|sub_category_num|category_num|Authors_num|Publisher_en_num|outlete_size_num|            Features|\n",
            "+--------------------+--------------------+--------------------+--------------------+--------------+-------------+--------+------------+------+--------------------+------------+---------+----------------+------------+-----------+----------------+----------------+--------------------+\n",
            "|Evil spirits (har...|supernatural and ...|novel and literature|       Mushtaq Ahmed|           200|          156|      44|        10.0|   4.2|Declaration of un...|       small|      1.0|             1.0|         1.0|        1.0|             1.0|             1.0|[200.0,156.0,44.0...|\n",
            "|Smart English Sma...|english grammar a...|         educational|         Farid Ahmed|           250|          188|      62|       137.0|  3.74|  Farid Publications|      medium|      0.0|             0.0|         0.0|        0.0|             0.0|             0.0|(10,[0,1,2,3,4],[...|\n",
            "|What will people ...|self development ...|          daily life|         Ayman Sadiq|           255|          191|      64|      1848.0|  4.08|               Ideal|      medium|      0.0|             0.0|         0.0|        0.0|             0.0|             0.0|(10,[0,1,2,3,4],[...|\n",
            "|Rahele Bellayat (...|spirituality and ...|           religious|Dr.Khondaker Abdu...|           460|          322|     138|       584.0|  4.67|As-Sunnah Publica...|      medium|      0.0|             0.0|         0.0|        0.0|             0.0|             0.0|(10,[0,1,2,3,4],[...|\n",
            "|Not in good (hard...|student life deve...|          daily life|         Ayman Sadiq|           300|          225|      75|      1110.0|  4.28|    Meena Book House|      medium|      0.0|             0.0|         0.0|        0.0|             0.0|             0.0|(10,[0,1,2,3,4],[...|\n",
            "+--------------------+--------------------+--------------------+--------------------+--------------+-------------+--------+------------+------+--------------------+------------+---------+----------------+------------+-----------+----------------+----------------+--------------------+\n",
            "only showing top 5 rows\n",
            "\n"
          ]
        }
      ]
    },
    {
      "cell_type": "code",
      "source": [
        "df.count()"
      ],
      "metadata": {
        "colab": {
          "base_uri": "https://localhost:8080/"
        },
        "id": "lzPJMd2WNiZi",
        "outputId": "583ef3fe-8de3-4077-8a18-dab2bd72202c"
      },
      "execution_count": null,
      "outputs": [
        {
          "output_type": "execute_result",
          "data": {
            "text/plain": [
              "6355"
            ]
          },
          "metadata": {},
          "execution_count": 23
        }
      ]
    },
    {
      "cell_type": "code",
      "source": [
        "from pyspark.sql.functions import countDistinct, avg, stddev\n",
        "column_subset = df.columns\n",
        "for cols in column_subset:\n",
        "    if df.select(cols).dtypes[0][1]==\"Integer\":\n",
        "        mean = df.agg({cols:'mean'}).collect()[0][0]\n",
        "        stddev = df.agg({'Selling Price':'stddev'}).collect()[0][0]\n",
        "        upper_limit = mean + (3*stddev)\n",
        "        lower_limit = mean - (3*stddev)\n",
        "        df = df.filter((df[cols]>lower_limit) & (df[cols]<upper_limit))\n",
        "df.show(5)"
      ],
      "metadata": {
        "colab": {
          "base_uri": "https://localhost:8080/"
        },
        "outputId": "0dd1396e-76fa-47fd-a352-5ac5fc13362c",
        "id": "cb-lxRu9N7-N"
      },
      "execution_count": null,
      "outputs": [
        {
          "output_type": "stream",
          "name": "stdout",
          "text": [
            "+--------------------+--------------------+--------------------+--------------------+--------------+-------------+--------+------------+------+--------------------+------------+---------+----------------+------------+-----------+----------------+----------------+--------------------+\n",
            "|               Title|        sub_category|            category|             Authors|Original Price|Selling Price|Discount|Rating Count|Rating|        Publisher_en|outlete_size|Title_num|sub_category_num|category_num|Authors_num|Publisher_en_num|outlete_size_num|            Features|\n",
            "+--------------------+--------------------+--------------------+--------------------+--------------+-------------+--------+------------+------+--------------------+------------+---------+----------------+------------+-----------+----------------+----------------+--------------------+\n",
            "|Evil spirits (har...|supernatural and ...|novel and literature|       Mushtaq Ahmed|           200|          156|      44|        10.0|   4.2|Declaration of un...|       small|      1.0|             1.0|         1.0|        1.0|             1.0|             1.0|[200.0,156.0,44.0...|\n",
            "|Smart English Sma...|english grammar a...|         educational|         Farid Ahmed|           250|          188|      62|       137.0|  3.74|  Farid Publications|      medium|      0.0|             0.0|         0.0|        0.0|             0.0|             0.0|(10,[0,1,2,3,4],[...|\n",
            "|What will people ...|self development ...|          daily life|         Ayman Sadiq|           255|          191|      64|      1848.0|  4.08|               Ideal|      medium|      0.0|             0.0|         0.0|        0.0|             0.0|             0.0|(10,[0,1,2,3,4],[...|\n",
            "|Rahele Bellayat (...|spirituality and ...|           religious|Dr.Khondaker Abdu...|           460|          322|     138|       584.0|  4.67|As-Sunnah Publica...|      medium|      0.0|             0.0|         0.0|        0.0|             0.0|             0.0|(10,[0,1,2,3,4],[...|\n",
            "|Not in good (hard...|student life deve...|          daily life|         Ayman Sadiq|           300|          225|      75|      1110.0|  4.28|    Meena Book House|      medium|      0.0|             0.0|         0.0|        0.0|             0.0|             0.0|(10,[0,1,2,3,4],[...|\n",
            "+--------------------+--------------------+--------------------+--------------------+--------------+-------------+--------+------------+------+--------------------+------------+---------+----------------+------------+-----------+----------------+----------------+--------------------+\n",
            "only showing top 5 rows\n",
            "\n"
          ]
        }
      ]
    },
    {
      "cell_type": "code",
      "source": [
        "df.count()"
      ],
      "metadata": {
        "colab": {
          "base_uri": "https://localhost:8080/"
        },
        "id": "5GVtYId2OEHF",
        "outputId": "a72082fe-cfe0-40e5-dc6f-b064ab787440"
      },
      "execution_count": null,
      "outputs": [
        {
          "output_type": "execute_result",
          "data": {
            "text/plain": [
              "6355"
            ]
          },
          "metadata": {},
          "execution_count": 25
        }
      ]
    },
    {
      "cell_type": "code",
      "source": [
        "from pyspark.sql.functions import countDistinct, avg, stddev\n",
        "column_subset = df.columns\n",
        "for cols in column_subset:\n",
        "    if df.select(cols).dtypes[0][1]==\"Integer\":\n",
        "        mean = df.agg({cols:'mean'}).collect()[0][0]\n",
        "        stddev = df.agg({'Discount':'stddev'}).collect()[0][0]\n",
        "        upper_limit = mean + (3*stddev)\n",
        "        lower_limit = mean - (3*stddev)\n",
        "        df = df.filter((df[cols]>lower_limit) & (df[cols]<upper_limit))\n",
        "df.show(5)"
      ],
      "metadata": {
        "colab": {
          "base_uri": "https://localhost:8080/"
        },
        "id": "ywsuIZcTN292",
        "outputId": "872369e0-7bc7-48b9-d87a-ca914d840fee"
      },
      "execution_count": null,
      "outputs": [
        {
          "output_type": "stream",
          "name": "stdout",
          "text": [
            "+--------------------+--------------------+--------------------+--------------------+--------------+-------------+--------+------------+------+--------------------+------------+---------+----------------+------------+-----------+----------------+----------------+--------------------+\n",
            "|               Title|        sub_category|            category|             Authors|Original Price|Selling Price|Discount|Rating Count|Rating|        Publisher_en|outlete_size|Title_num|sub_category_num|category_num|Authors_num|Publisher_en_num|outlete_size_num|            Features|\n",
            "+--------------------+--------------------+--------------------+--------------------+--------------+-------------+--------+------------+------+--------------------+------------+---------+----------------+------------+-----------+----------------+----------------+--------------------+\n",
            "|Evil spirits (har...|supernatural and ...|novel and literature|       Mushtaq Ahmed|           200|          156|      44|        10.0|   4.2|Declaration of un...|       small|      1.0|             1.0|         1.0|        1.0|             1.0|             1.0|[200.0,156.0,44.0...|\n",
            "|Smart English Sma...|english grammar a...|         educational|         Farid Ahmed|           250|          188|      62|       137.0|  3.74|  Farid Publications|      medium|      0.0|             0.0|         0.0|        0.0|             0.0|             0.0|(10,[0,1,2,3,4],[...|\n",
            "|What will people ...|self development ...|          daily life|         Ayman Sadiq|           255|          191|      64|      1848.0|  4.08|               Ideal|      medium|      0.0|             0.0|         0.0|        0.0|             0.0|             0.0|(10,[0,1,2,3,4],[...|\n",
            "|Rahele Bellayat (...|spirituality and ...|           religious|Dr.Khondaker Abdu...|           460|          322|     138|       584.0|  4.67|As-Sunnah Publica...|      medium|      0.0|             0.0|         0.0|        0.0|             0.0|             0.0|(10,[0,1,2,3,4],[...|\n",
            "|Not in good (hard...|student life deve...|          daily life|         Ayman Sadiq|           300|          225|      75|      1110.0|  4.28|    Meena Book House|      medium|      0.0|             0.0|         0.0|        0.0|             0.0|             0.0|(10,[0,1,2,3,4],[...|\n",
            "+--------------------+--------------------+--------------------+--------------------+--------------+-------------+--------+------------+------+--------------------+------------+---------+----------------+------------+-----------+----------------+----------------+--------------------+\n",
            "only showing top 5 rows\n",
            "\n"
          ]
        }
      ]
    },
    {
      "cell_type": "code",
      "source": [
        "df.count()"
      ],
      "metadata": {
        "colab": {
          "base_uri": "https://localhost:8080/"
        },
        "id": "0Apw9ycZObON",
        "outputId": "68e8a32a-062d-4927-b3f4-4141e267bd8e"
      },
      "execution_count": null,
      "outputs": [
        {
          "output_type": "execute_result",
          "data": {
            "text/plain": [
              "6355"
            ]
          },
          "metadata": {},
          "execution_count": 27
        }
      ]
    },
    {
      "cell_type": "code",
      "source": [
        "train_ratio = 0.7\n",
        "test_ratio = 0.3\n",
        "train_data, test_data = finalData.randomSplit([train_ratio, test_ratio])\n",
        "train_data.show(4)"
      ],
      "metadata": {
        "colab": {
          "base_uri": "https://localhost:8080/"
        },
        "id": "nc4R7AOvUWcn",
        "outputId": "af880638-4dcf-47cd-b916-c81b2ad55d18"
      },
      "execution_count": null,
      "outputs": [
        {
          "output_type": "stream",
          "name": "stdout",
          "text": [
            "+--------------------+----------------+\n",
            "|     scaled_features|outlete_size_num|\n",
            "+--------------------+----------------+\n",
            "|(10,[0,1,2],[0.09...|             0.0|\n",
            "|(10,[0,1,2],[0.09...|             0.0|\n",
            "|(10,[0,1,2],[0.09...|             0.0|\n",
            "|(10,[0,1,2],[0.09...|             0.0|\n",
            "+--------------------+----------------+\n",
            "only showing top 4 rows\n",
            "\n"
          ]
        }
      ]
    },
    {
      "cell_type": "markdown",
      "source": [
        "**Logistic Regression**"
      ],
      "metadata": {
        "id": "CN9YKP1MV1jy"
      }
    },
    {
      "cell_type": "code",
      "source": [
        "from pyspark.ml.classification import LogisticRegression\n",
        "lrg = LogisticRegression(featuresCol=\"scaled_features\", labelCol=\"outlete_size_num\")\n",
        "model = lrg.fit(train_data)\n",
        "predict = model.transform(test_data)"
      ],
      "metadata": {
        "id": "0A3iN_S-Utxo"
      },
      "execution_count": null,
      "outputs": []
    },
    {
      "cell_type": "code",
      "source": [
        "from pyspark.ml.evaluation import MulticlassClassificationEvaluator\n",
        "evaluator = MulticlassClassificationEvaluator(labelCol='outlete_size_num')\n",
        "accuracy = evaluator.evaluate(predict)\n",
        "print(\"Accuracy for logistic regression:\", accuracy)"
      ],
      "metadata": {
        "colab": {
          "base_uri": "https://localhost:8080/"
        },
        "id": "0rBcgCGZVAOd",
        "outputId": "eda5abee-3fc4-4fc1-cb58-68c9508e87a4"
      },
      "execution_count": null,
      "outputs": [
        {
          "output_type": "stream",
          "name": "stdout",
          "text": [
            "Accuracy for logistic regression: 1.0\n"
          ]
        }
      ]
    },
    {
      "cell_type": "code",
      "source": [
        "from pyspark.mllib.evaluation import MulticlassMetrics\n",
        "import seaborn as sns\n",
        "import matplotlib.pyplot as plt\n",
        "\n",
        "predictionAndLabels = predict.select(\"prediction\", \"outlete_size_num\").rdd\n",
        "\n",
        "metrics = MulticlassMetrics(predictionAndLabels)\n",
        "\n",
        "confusion_matrix = metrics.confusionMatrix().toArray()\n",
        "plt.figure(figsize=(5, 4))\n",
        "sns.heatmap(confusion_matrix, annot=True, fmt=\"g\", cmap=\"Blues\", xticklabels=[1,2,3], yticklabels=[1,2,3])\n",
        "plt.xlabel(\"Predicted Label\")\n",
        "plt.ylabel(\"True Label\")\n",
        "plt.title(\"Confusion Matrix\")\n",
        "plt.show()"
      ],
      "metadata": {
        "colab": {
          "base_uri": "https://localhost:8080/",
          "height": 410
        },
        "id": "IWg3XqThOvP1",
        "outputId": "3b7a1068-8e25-4215-d56a-6c3783fd231b"
      },
      "execution_count": null,
      "outputs": [
        {
          "output_type": "display_data",
          "data": {
            "text/plain": [
              "<Figure size 500x400 with 2 Axes>"
            ],
            "image/png": "[encoded data removed]"
          },
          "metadata": {}
        }
      ]
    },
    {
      "cell_type": "markdown",
      "source": [
        "**Decision Tree**"
      ],
      "metadata": {
        "id": "pxmiTyrPWDJ8"
      }
    },
    {
      "cell_type": "code",
      "source": [
        "from pyspark.ml.classification import DecisionTreeClassifier\n",
        "dt = DecisionTreeClassifier(featuresCol=\"scaled_features\", labelCol='outlete_size_num',maxDepth=7)\n",
        "model = dt.fit(train_data)\n",
        "predict = model.transform(test_data)"
      ],
      "metadata": {
        "id": "-X4P0zKpWKW_"
      },
      "execution_count": null,
      "outputs": []
    },
    {
      "cell_type": "code",
      "source": [
        "evaluator = MulticlassClassificationEvaluator(labelCol='outlete_size_num')\n",
        "accuracy = evaluator.evaluate(predict)\n",
        "\n",
        "# Display the accuracy\n",
        "print(\"Decision Tree Accuracy:\", accuracy)"
      ],
      "metadata": {
        "colab": {
          "base_uri": "https://localhost:8080/"
        },
        "id": "fAOg39FGWneo",
        "outputId": "f5ec5cda-ccd5-4bfd-b8ea-0f11b078f54e"
      },
      "execution_count": null,
      "outputs": [
        {
          "output_type": "stream",
          "name": "stdout",
          "text": [
            "Decision Tree Accuracy: 1.0\n"
          ]
        }
      ]
    },
    {
      "cell_type": "code",
      "source": [
        "predictionAndLabels = predict.select(\"prediction\", \"outlete_size_num\").rdd\n",
        "\n",
        "metrics = MulticlassMetrics(predictionAndLabels)\n",
        "\n",
        "confusion_matrix = metrics.confusionMatrix().toArray()\n",
        "plt.figure(figsize=(5, 4))\n",
        "sns.heatmap(confusion_matrix, annot=True, fmt=\"g\", cmap=\"Blues\", xticklabels=[1,2,3], yticklabels=[1,2,3])\n",
        "plt.xlabel(\"Predicted Label\")\n",
        "plt.ylabel(\"True Label\")\n",
        "plt.title(\"Confusion Matrix\")\n",
        "plt.show()"
      ],
      "metadata": {
        "colab": {
          "base_uri": "https://localhost:8080/",
          "height": 410
        },
        "id": "J_yDEynfPe2h",
        "outputId": "ddd048ba-8dc8-438e-b390-2c4d79a768f2"
      },
      "execution_count": null,
      "outputs": [
        {
          "output_type": "display_data",
          "data": {
            "text/plain": [
              "<Figure size 500x400 with 2 Axes>"
            ],
            "image/png": "[encoded data removed]"
          },
          "metadata": {}
        }
      ]
    },
    {
      "cell_type": "markdown",
      "source": [
        "**Random Forest**"
      ],
      "metadata": {
        "id": "lrN-kKrvXYxy"
      }
    },
    {
      "cell_type": "code",
      "source": [
        "from pyspark.ml.classification import RandomForestClassifier\n",
        "random = RandomForestClassifier(featuresCol=\"scaled_features\", labelCol='outlete_size_num',numTrees=500)\n",
        "model = random.fit(train_data)\n",
        "predict= model.transform(test_data)"
      ],
      "metadata": {
        "id": "H5UKx_6sXiFd"
      },
      "execution_count": null,
      "outputs": []
    },
    {
      "cell_type": "code",
      "source": [
        "evaluator = MulticlassClassificationEvaluator(labelCol='outlete_size_num')\n",
        "accuracy = evaluator.evaluate(predict)\n",
        "\n",
        "# Display the accuracy\n",
        "print(\"Random Forest Accuracy:\", accuracy)"
      ],
      "metadata": {
        "colab": {
          "base_uri": "https://localhost:8080/"
        },
        "id": "HpuwUdVAXyKh",
        "outputId": "cbe4e75e-5ee5-4315-c688-e9bd689a6402"
      },
      "execution_count": null,
      "outputs": [
        {
          "output_type": "stream",
          "name": "stdout",
          "text": [
            "Random Forest Accuracy: 1.0\n"
          ]
        }
      ]
    },
    {
      "cell_type": "code",
      "source": [
        "predictionAndLabels = predict.select(\"prediction\", \"outlete_size_num\").rdd\n",
        "\n",
        "metrics = MulticlassMetrics(predictionAndLabels)\n",
        "\n",
        "confusion_matrix = metrics.confusionMatrix().toArray()\n",
        "plt.figure(figsize=(5, 4))\n",
        "sns.heatmap(confusion_matrix, annot=True, fmt=\"g\", cmap=\"Blues\", xticklabels=[1,2,3], yticklabels=[1,2,3])\n",
        "plt.xlabel(\"Predicted Label\")\n",
        "plt.ylabel(\"True Label\")\n",
        "plt.title(\"Confusion Matrix\")\n",
        "plt.show()"
      ],
      "metadata": {
        "colab": {
          "base_uri": "https://localhost:8080/",
          "height": 410
        },
        "id": "HZ1kTQCkPgpm",
        "outputId": "5545ae13-5bd3-4ced-f360-b97b74894319"
      },
      "execution_count": null,
      "outputs": [
        {
          "output_type": "display_data",
          "data": {
            "text/plain": [
              "<Figure size 500x400 with 2 Axes>"
            ],
            "image/png": "[encoded data removed]"
          },
          "metadata": {}
        }
      ]
    }
  ]
}